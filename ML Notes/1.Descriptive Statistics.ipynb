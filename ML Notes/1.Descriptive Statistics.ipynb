{
 "cells": [
  {
   "cell_type": "markdown",
   "metadata": {},
   "source": [
    "When factors are held constant , the results are more reliable   \n",
    "Lurking variable -> Extraneous factors which cannot be controlled"
   ]
  },
  {
   "cell_type": "markdown",
   "metadata": {},
   "source": [
    "Population ->  $\\mu$    \n",
    "Sample -> $\\bar{x}$"
   ]
  },
  {
   "cell_type": "markdown",
   "metadata": {},
   "source": [
    "Correlation does not cause casuation"
   ]
  },
  {
   "cell_type": "markdown",
   "metadata": {},
   "source": [
    "**Constructs** - all the things which cannot be quantified - like how much water I drink after waking up"
   ]
  },
  {
   "cell_type": "markdown",
   "metadata": {},
   "source": [
    "**Hypothesis** : Statements about relationship between variables are called Hypothesis"
   ]
  },
  {
   "cell_type": "markdown",
   "metadata": {},
   "source": [
    "**Histogram** - to get the frequqency - generally used to continous variables/ regression    \n",
    "**Bar Graph** - gap/arbitrary in bin size - order does not matter - generally used for categorical variables"
   ]
  },
  {
   "cell_type": "markdown",
   "metadata": {},
   "source": [
    "**Standard Deviation** (denoted by letter   $\\sigma$) -> Describes how spread out the data is        \n",
    "A low SD means the data is centered around the mean     \n",
    "A high SD means the data is far more spread from the mean.     \n",
    "SD can be used when the distribution of data is normal"
   ]
  },
  {
   "cell_type": "markdown",
   "metadata": {},
   "source": [
    "68 % - falls within 1$\\sigma$    \n",
    "95 % - falls within  2$\\sigma$     \n",
    "99.7 % - falls within 3$\\sigma$"
   ]
  },
  {
   "cell_type": "markdown",
   "metadata": {},
   "source": [
    "**Measures of center**\n",
    "\n",
    "Mode -> The value at which frequency is the highest, or the most common value in the data.    \n",
    "Mean -> Average   \n",
    "Median -> The value in the middle of the distribution (arrange the data in order)"
   ]
  },
  {
   "cell_type": "markdown",
   "metadata": {},
   "source": [
    "Some distribtions have no mode , they are called normal distribution     \n",
    "Multi Modal - more than one mode"
   ]
  },
  {
   "cell_type": "code",
   "execution_count": null,
   "metadata": {},
   "outputs": [],
   "source": []
  }
 ],
 "metadata": {
  "kernelspec": {
   "display_name": "Python 3.7.7 64-bit ('ml': conda)",
   "language": "python",
   "name": "python37764bitmlcondab0e91abca1e444e6ba4cae782abe292d"
  },
  "language_info": {
   "codemirror_mode": {
    "name": "ipython",
    "version": 3
   },
   "file_extension": ".py",
   "mimetype": "text/x-python",
   "name": "python",
   "nbconvert_exporter": "python",
   "pygments_lexer": "ipython3",
   "version": "3.7.7"
  }
 },
 "nbformat": 4,
 "nbformat_minor": 4
}
